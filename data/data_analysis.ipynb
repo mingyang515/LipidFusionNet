{
 "cells": [
  {
   "cell_type": "code",
   "id": "initial_id",
   "metadata": {
    "collapsed": true,
    "ExecuteTime": {
     "end_time": "2025-02-24T12:52:46.092533Z",
     "start_time": "2025-02-24T12:52:44.834853Z"
    }
   },
   "source": [
    "import numpy as np\n",
    "import pandas as pd"
   ],
   "outputs": [],
   "execution_count": 1
  },
  {
   "metadata": {
    "ExecuteTime": {
     "end_time": "2025-02-24T12:53:29.522078Z",
     "start_time": "2025-02-24T12:53:28.817050Z"
    }
   },
   "cell_type": "code",
   "source": [
    "data1 = pd.read_csv('candidate_set_smiles_plus_features.csv')\n",
    "data2 = pd.read_csv('finetuning_set_smiles_plus_features.csv')"
   ],
   "id": "f1ddb7e8f9218000",
   "outputs": [],
   "execution_count": 3
  },
  {
   "metadata": {
    "ExecuteTime": {
     "end_time": "2025-02-24T12:53:40.292042Z",
     "start_time": "2025-02-24T12:53:40.272085Z"
    }
   },
   "cell_type": "code",
   "source": "data1.info()",
   "id": "281f85a3751d0407",
   "outputs": [
    {
     "name": "stdout",
     "output_type": "stream",
     "text": [
      "<class 'pandas.core.frame.DataFrame'>\n",
      "RangeIndex: 12276 entries, 0 to 12275\n",
      "Columns: 814 entries, smiles to desc_mZagreb2/10\n",
      "dtypes: float64(813), object(1)\n",
      "memory usage: 76.2+ MB\n"
     ]
    }
   ],
   "execution_count": 4
  },
  {
   "metadata": {
    "ExecuteTime": {
     "end_time": "2025-02-24T12:54:05.381611Z",
     "start_time": "2025-02-24T12:54:05.364024Z"
    }
   },
   "cell_type": "code",
   "source": "data2.info()",
   "id": "43e7ff0ba1aa6dd5",
   "outputs": [
    {
     "name": "stdout",
     "output_type": "stream",
     "text": [
      "<class 'pandas.core.frame.DataFrame'>\n",
      "RangeIndex: 1200 entries, 0 to 1199\n",
      "Columns: 816 entries, smiles to desc_mZagreb2/10\n",
      "dtypes: float64(815), object(1)\n",
      "memory usage: 7.5+ MB\n"
     ]
    }
   ],
   "execution_count": 5
  },
  {
   "metadata": {},
   "cell_type": "code",
   "outputs": [],
   "execution_count": null,
   "source": "",
   "id": "d2ffa522cb7ab061"
  }
 ],
 "metadata": {
  "kernelspec": {
   "display_name": "Python 3",
   "language": "python",
   "name": "python3"
  },
  "language_info": {
   "codemirror_mode": {
    "name": "ipython",
    "version": 2
   },
   "file_extension": ".py",
   "mimetype": "text/x-python",
   "name": "python",
   "nbconvert_exporter": "python",
   "pygments_lexer": "ipython2",
   "version": "2.7.6"
  }
 },
 "nbformat": 4,
 "nbformat_minor": 5
}
